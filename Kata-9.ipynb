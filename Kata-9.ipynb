{
 "cells": [
  {
   "cell_type": "markdown",
   "metadata": {},
   "source": [
    "# Kata 9"
   ]
  },
  {
   "cell_type": "markdown",
   "metadata": {},
   "source": [
    "# Ejercicio 1"
   ]
  },
  {
   "cell_type": "code",
   "execution_count": 9,
   "metadata": {},
   "outputs": [],
   "source": [
    "def combustibles(tanque1,tanque2,tanque3):\n",
    "    promedio = 0\n",
    "    total_combustible = tanque1 + tanque2 + tanque3\n",
    "    promedio = total_combustible / 3\n",
    "    print('el promedio de combustible es',promedio)\n"
   ]
  },
  {
   "cell_type": "code",
   "execution_count": 11,
   "metadata": {},
   "outputs": [
    {
     "name": "stdout",
     "output_type": "stream",
     "text": [
      "el promedio de combustible es 0.0\n"
     ]
    }
   ],
   "source": [
    "combustibles(0,0,0)"
   ]
  },
  {
   "cell_type": "code",
   "execution_count": null,
   "metadata": {},
   "outputs": [],
   "source": [
    "def combustibles(tanque1,tanque2,tanque3):\n",
    "    total_combustible = tanque1 + tanque2 + tanque3\n",
    "    return total_combustible"
   ]
  },
  {
   "cell_type": "code",
   "execution_count": 12,
   "metadata": {},
   "outputs": [],
   "source": [
    "def promedio_combustible(tanques):\n",
    "    total = sum(tanques)\n",
    "    num_tanque = len(tanques)\n",
    "    return total / num_tanque\n"
   ]
  },
  {
   "cell_type": "code",
   "execution_count": 14,
   "metadata": {},
   "outputs": [
    {
     "data": {
      "text/plain": [
       "5.0"
      ]
     },
     "execution_count": 14,
     "metadata": {},
     "output_type": "execute_result"
    }
   ],
   "source": [
    "promedio_combustible([5,5,5])"
   ]
  },
  {
   "cell_type": "code",
   "execution_count": 15,
   "metadata": {},
   "outputs": [],
   "source": [
    "def combustibles(tanque1, tanque2, tanque3):\n",
    "    return f\"\"\"Reporte:\n",
    "    Promedio Total: {promedio_combustible([tanque1,tanque2,tanque3])}%\n",
    "    Tanque 1: {tanque1}%\n",
    "    Tanque 2: {tanque2}%\n",
    "    Tanque 3: {tanque3}%\n",
    "    \"\"\""
   ]
  },
  {
   "cell_type": "code",
   "execution_count": 17,
   "metadata": {},
   "outputs": [
    {
     "name": "stdout",
     "output_type": "stream",
     "text": [
      "Reporte:\n",
      "    Promedio Total: 20.0%%\n",
      "    Tanque 1: 10%\n",
      "    Tanque 2: 20%\n",
      "    Tanque 3: 30%\n",
      "    \n"
     ]
    }
   ],
   "source": [
    "print(combustibles(10,20,30))"
   ]
  },
  {
   "cell_type": "markdown",
   "metadata": {},
   "source": [
    "# Ejercicio 2"
   ]
  },
  {
   "cell_type": "code",
   "execution_count": 19,
   "metadata": {},
   "outputs": [
    {
     "name": "stdout",
     "output_type": "stream",
     "text": [
      "Reporte de mision a: Moon\n",
      " Tiempo de vuelo: 45 minutos\n",
      " Total de Combustible usado: 100\n"
     ]
    }
   ],
   "source": [
    "def informe_mision(prelanzamiento, tiempo_vuelo, destino, tanque1, tanque2):\n",
    "    return f'Reporte de mision a: {destino}\\n Tiempo de vuelo: {prelanzamiento+tiempo_vuelo} minutos\\n Total de Combustible usado: {tanque1+tanque2}'\n",
    "\n",
    "print(informe_mision(15,30,'Moon',50,50))"
   ]
  },
  {
   "cell_type": "code",
   "execution_count": 21,
   "metadata": {},
   "outputs": [
    {
     "name": "stdout",
     "output_type": "stream",
     "text": [
      "Reporte de mision a Moon \n",
      " Tiempo de vuelo 45 minutos\n",
      " Total de combustible usado 100\n"
     ]
    }
   ],
   "source": [
    "def informe_mision(destino,*minutos,**tanques):\n",
    "    return f'Reporte de mision a {destino} \\n Tiempo de vuelo {sum(minutos)} minutos\\n Total de combustible usado {sum(tanques.values())}'\n",
    "print(informe_mision('Moon',15,30,tanque1=50,tanque2=50))"
   ]
  }
 ],
 "metadata": {
  "interpreter": {
   "hash": "d4e132dbcf076d11c037eb01a6df7e09e864f7fd5cf29536575d818b152db8aa"
  },
  "kernelspec": {
   "display_name": "Python 3.10.2 64-bit",
   "language": "python",
   "name": "python3"
  },
  "language_info": {
   "codemirror_mode": {
    "name": "ipython",
    "version": 3
   },
   "file_extension": ".py",
   "mimetype": "text/x-python",
   "name": "python",
   "nbconvert_exporter": "python",
   "pygments_lexer": "ipython3",
   "version": "3.10.2"
  },
  "orig_nbformat": 4
 },
 "nbformat": 4,
 "nbformat_minor": 2
}
