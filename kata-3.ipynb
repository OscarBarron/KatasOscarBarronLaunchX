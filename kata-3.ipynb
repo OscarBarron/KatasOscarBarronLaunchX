{
 "cells": [
  {
   "cell_type": "code",
   "execution_count": 6,
   "metadata": {},
   "outputs": [
    {
     "name": "stdout",
     "output_type": "stream",
     "text": [
      "Nada de que preocuparse\n"
     ]
    }
   ],
   "source": [
    "velocidadmax = 25\n",
    "asteroide = int(input(\"Velocidad del asteroide: \"))\n",
    "if asteroide >= velocidadmax:\n",
    "    print(\"Un asteroide se acerca rapidamente a \" + str(asteroide) + \"km/s\")\n",
    "else:\n",
    "    print(\"Nada de que preocuparse\")"
   ]
  },
  {
   "cell_type": "code",
   "execution_count": 10,
   "metadata": {},
   "outputs": [
    {
     "name": "stdout",
     "output_type": "stream",
     "text": [
      "Nada que ver aqui\n"
     ]
    }
   ],
   "source": [
    "velocidad = 19\n",
    "if velocidad == 20:\n",
    "    print(\"Miren unas luces en el cielo!\")\n",
    "elif velocidad > 20:\n",
    "    print(\"Miren unas luces en el cielo!\")\n",
    "else:\n",
    "    print(\"Nada que ver aqui\")"
   ]
  },
  {
   "cell_type": "code",
   "execution_count": 13,
   "metadata": {},
   "outputs": [
    {
     "name": "stdout",
     "output_type": "stream",
     "text": [
      "Miren unas luces en el cielo\n"
     ]
    }
   ],
   "source": [
    "dimensionmax = 25\n",
    "velocidadlight = 20\n",
    "velocidadmax =25\n",
    "dimension = int(input(\"De que tamaño es el asteroide? \"))\n",
    "velocidad = int(input(\"A que velocidad va el asteroide? \"))\n",
    "if dimension >= dimensionmax and velocidad > velocidadmax:\n",
    "    print(\"Cuidado un gran asteroide se acerca rapidamente\")\n",
    "elif dimension <= dimensionmax and velocidad >= velocidadlight and velocidad < velocidadmax:\n",
    "    print(\"Miren unas luces en el cielo\")\n",
    "elif dimension < dimensionmax and velocidad >= velocidadmax:\n",
    "    print(\"un asteroide se acerca rapidamente\")\n",
    "else:\n",
    "    print(\"nada que ver aqui\")"
   ]
  }
 ],
 "metadata": {
  "language_info": {
   "name": "python"
  },
  "orig_nbformat": 4
 },
 "nbformat": 4,
 "nbformat_minor": 2
}
